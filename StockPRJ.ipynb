{
 "cells": [
  {
   "cell_type": "code",
   "execution_count": 1,
   "id": "b039353f-94d5-4aec-90eb-588e8d07354c",
   "metadata": {},
   "outputs": [],
   "source": [
    "import pandas as pd\n",
    "import numpy as np \n",
    "import matplotlib.pyplot as plt\n",
    "import seaborn as sns \n"
   ]
  },
  {
   "cell_type": "code",
   "execution_count": 2,
   "id": "b315b886-01eb-4469-b07a-78b740d96234",
   "metadata": {},
   "outputs": [],
   "source": [
    "df= pd.read_csv('Stock.csv')\n"
   ]
  },
  {
   "cell_type": "code",
   "execution_count": 3,
   "id": "bb41712c-6f18-4d56-8221-5de9eb5a729b",
   "metadata": {},
   "outputs": [
    {
     "data": {
      "text/html": [
       "<div>\n",
       "<style scoped>\n",
       "    .dataframe tbody tr th:only-of-type {\n",
       "        vertical-align: middle;\n",
       "    }\n",
       "\n",
       "    .dataframe tbody tr th {\n",
       "        vertical-align: top;\n",
       "    }\n",
       "\n",
       "    .dataframe thead th {\n",
       "        text-align: right;\n",
       "    }\n",
       "</style>\n",
       "<table border=\"1\" class=\"dataframe\">\n",
       "  <thead>\n",
       "    <tr style=\"text-align: right;\">\n",
       "      <th></th>\n",
       "      <th>Date</th>\n",
       "      <th>Open</th>\n",
       "      <th>High</th>\n",
       "      <th>Low</th>\n",
       "      <th>Close</th>\n",
       "      <th>Adj Close</th>\n",
       "      <th>Volume</th>\n",
       "    </tr>\n",
       "  </thead>\n",
       "  <tbody>\n",
       "    <tr>\n",
       "      <th>0</th>\n",
       "      <td>2018-02-05</td>\n",
       "      <td>262.000000</td>\n",
       "      <td>267.899994</td>\n",
       "      <td>250.029999</td>\n",
       "      <td>254.259995</td>\n",
       "      <td>254.259995</td>\n",
       "      <td>11896100</td>\n",
       "    </tr>\n",
       "    <tr>\n",
       "      <th>1</th>\n",
       "      <td>2018-02-06</td>\n",
       "      <td>247.699997</td>\n",
       "      <td>266.700012</td>\n",
       "      <td>245.000000</td>\n",
       "      <td>265.720001</td>\n",
       "      <td>265.720001</td>\n",
       "      <td>12595800</td>\n",
       "    </tr>\n",
       "    <tr>\n",
       "      <th>2</th>\n",
       "      <td>2018-02-07</td>\n",
       "      <td>266.579987</td>\n",
       "      <td>272.450012</td>\n",
       "      <td>264.329987</td>\n",
       "      <td>264.559998</td>\n",
       "      <td>264.559998</td>\n",
       "      <td>8981500</td>\n",
       "    </tr>\n",
       "    <tr>\n",
       "      <th>3</th>\n",
       "      <td>2018-02-08</td>\n",
       "      <td>267.079987</td>\n",
       "      <td>267.619995</td>\n",
       "      <td>250.000000</td>\n",
       "      <td>250.100006</td>\n",
       "      <td>250.100006</td>\n",
       "      <td>9306700</td>\n",
       "    </tr>\n",
       "    <tr>\n",
       "      <th>4</th>\n",
       "      <td>2018-02-09</td>\n",
       "      <td>253.850006</td>\n",
       "      <td>255.800003</td>\n",
       "      <td>236.110001</td>\n",
       "      <td>249.470001</td>\n",
       "      <td>249.470001</td>\n",
       "      <td>16906900</td>\n",
       "    </tr>\n",
       "    <tr>\n",
       "      <th>...</th>\n",
       "      <td>...</td>\n",
       "      <td>...</td>\n",
       "      <td>...</td>\n",
       "      <td>...</td>\n",
       "      <td>...</td>\n",
       "      <td>...</td>\n",
       "      <td>...</td>\n",
       "    </tr>\n",
       "    <tr>\n",
       "      <th>1004</th>\n",
       "      <td>2022-01-31</td>\n",
       "      <td>401.970001</td>\n",
       "      <td>427.700012</td>\n",
       "      <td>398.200012</td>\n",
       "      <td>427.140015</td>\n",
       "      <td>427.140015</td>\n",
       "      <td>20047500</td>\n",
       "    </tr>\n",
       "    <tr>\n",
       "      <th>1005</th>\n",
       "      <td>2022-02-01</td>\n",
       "      <td>432.959991</td>\n",
       "      <td>458.480011</td>\n",
       "      <td>425.540009</td>\n",
       "      <td>457.130005</td>\n",
       "      <td>457.130005</td>\n",
       "      <td>22542300</td>\n",
       "    </tr>\n",
       "    <tr>\n",
       "      <th>1006</th>\n",
       "      <td>2022-02-02</td>\n",
       "      <td>448.250000</td>\n",
       "      <td>451.980011</td>\n",
       "      <td>426.480011</td>\n",
       "      <td>429.480011</td>\n",
       "      <td>429.480011</td>\n",
       "      <td>14346000</td>\n",
       "    </tr>\n",
       "    <tr>\n",
       "      <th>1007</th>\n",
       "      <td>2022-02-03</td>\n",
       "      <td>421.440002</td>\n",
       "      <td>429.260010</td>\n",
       "      <td>404.279999</td>\n",
       "      <td>405.600006</td>\n",
       "      <td>405.600006</td>\n",
       "      <td>9905200</td>\n",
       "    </tr>\n",
       "    <tr>\n",
       "      <th>1008</th>\n",
       "      <td>2022-02-04</td>\n",
       "      <td>407.309998</td>\n",
       "      <td>412.769989</td>\n",
       "      <td>396.640015</td>\n",
       "      <td>410.170013</td>\n",
       "      <td>410.170013</td>\n",
       "      <td>7782400</td>\n",
       "    </tr>\n",
       "  </tbody>\n",
       "</table>\n",
       "<p>1009 rows × 7 columns</p>\n",
       "</div>"
      ],
      "text/plain": [
       "            Date        Open        High         Low       Close   Adj Close  \\\n",
       "0     2018-02-05  262.000000  267.899994  250.029999  254.259995  254.259995   \n",
       "1     2018-02-06  247.699997  266.700012  245.000000  265.720001  265.720001   \n",
       "2     2018-02-07  266.579987  272.450012  264.329987  264.559998  264.559998   \n",
       "3     2018-02-08  267.079987  267.619995  250.000000  250.100006  250.100006   \n",
       "4     2018-02-09  253.850006  255.800003  236.110001  249.470001  249.470001   \n",
       "...          ...         ...         ...         ...         ...         ...   \n",
       "1004  2022-01-31  401.970001  427.700012  398.200012  427.140015  427.140015   \n",
       "1005  2022-02-01  432.959991  458.480011  425.540009  457.130005  457.130005   \n",
       "1006  2022-02-02  448.250000  451.980011  426.480011  429.480011  429.480011   \n",
       "1007  2022-02-03  421.440002  429.260010  404.279999  405.600006  405.600006   \n",
       "1008  2022-02-04  407.309998  412.769989  396.640015  410.170013  410.170013   \n",
       "\n",
       "        Volume  \n",
       "0     11896100  \n",
       "1     12595800  \n",
       "2      8981500  \n",
       "3      9306700  \n",
       "4     16906900  \n",
       "...        ...  \n",
       "1004  20047500  \n",
       "1005  22542300  \n",
       "1006  14346000  \n",
       "1007   9905200  \n",
       "1008   7782400  \n",
       "\n",
       "[1009 rows x 7 columns]"
      ]
     },
     "execution_count": 3,
     "metadata": {},
     "output_type": "execute_result"
    }
   ],
   "source": [
    "df"
   ]
  },
  {
   "cell_type": "code",
   "execution_count": 4,
   "id": "914e04dd-e07e-4d6e-abe6-8f888ff9955e",
   "metadata": {},
   "outputs": [
    {
     "data": {
      "text/plain": [
       "(1009, 7)"
      ]
     },
     "execution_count": 4,
     "metadata": {},
     "output_type": "execute_result"
    }
   ],
   "source": [
    "df.shape"
   ]
  },
  {
   "cell_type": "code",
   "execution_count": 5,
   "id": "0eff80a6-0661-4a1d-a4b3-f594c203ee8d",
   "metadata": {},
   "outputs": [
    {
     "data": {
      "text/plain": [
       "Date         0\n",
       "Open         0\n",
       "High         0\n",
       "Low          0\n",
       "Close        0\n",
       "Adj Close    0\n",
       "Volume       0\n",
       "dtype: int64"
      ]
     },
     "execution_count": 5,
     "metadata": {},
     "output_type": "execute_result"
    }
   ],
   "source": [
    "df.isnull().sum()"
   ]
  },
  {
   "cell_type": "code",
   "execution_count": 6,
   "id": "4a41540c-7424-4c3d-b583-70883d5e12aa",
   "metadata": {},
   "outputs": [
    {
     "data": {
      "text/plain": [
       "Date          object\n",
       "Open         float64\n",
       "High         float64\n",
       "Low          float64\n",
       "Close        float64\n",
       "Adj Close    float64\n",
       "Volume         int64\n",
       "dtype: object"
      ]
     },
     "execution_count": 6,
     "metadata": {},
     "output_type": "execute_result"
    }
   ],
   "source": [
    "df.dtypes"
   ]
  },
  {
   "cell_type": "code",
   "execution_count": 7,
   "id": "3a9d0988-4bf8-4e8f-ad21-0631a7909351",
   "metadata": {},
   "outputs": [
    {
     "data": {
      "text/plain": [
       "False"
      ]
     },
     "execution_count": 7,
     "metadata": {},
     "output_type": "execute_result"
    }
   ],
   "source": [
    "df.isna().sum().any()"
   ]
  },
  {
   "cell_type": "code",
   "execution_count": 8,
   "id": "53bd913c-ac9f-441b-ab84-3845a521be2f",
   "metadata": {},
   "outputs": [],
   "source": [
    "df['Date']= pd.to_datetime(df['Date'], format='%Y-%m-%d')"
   ]
  },
  {
   "cell_type": "code",
   "execution_count": 9,
   "id": "ac53d128-9dc0-4da7-9b30-0af63035d55d",
   "metadata": {},
   "outputs": [
    {
     "data": {
      "text/plain": [
       "Date         datetime64[ns]\n",
       "Open                float64\n",
       "High                float64\n",
       "Low                 float64\n",
       "Close               float64\n",
       "Adj Close           float64\n",
       "Volume                int64\n",
       "dtype: object"
      ]
     },
     "execution_count": 9,
     "metadata": {},
     "output_type": "execute_result"
    }
   ],
   "source": [
    "df.dtypes"
   ]
  },
  {
   "cell_type": "code",
   "execution_count": 10,
   "id": "27e65512-0093-4aa9-a89d-16b7172bc6db",
   "metadata": {},
   "outputs": [
    {
     "data": {
      "text/plain": [
       "Index(['Date', 'Open', 'High', 'Low', 'Close', 'Adj Close', 'Volume'], dtype='object')"
      ]
     },
     "execution_count": 10,
     "metadata": {},
     "output_type": "execute_result"
    }
   ],
   "source": [
    "df.head()\n",
    "df.columns\n"
   ]
  },
  {
   "cell_type": "code",
   "execution_count": 26,
   "id": "ede1332c-7e28-4f51-bd45-49266c0bcf58",
   "metadata": {},
   "outputs": [
    {
     "data": {
      "text/html": [
       "<div>\n",
       "<style scoped>\n",
       "    .dataframe tbody tr th:only-of-type {\n",
       "        vertical-align: middle;\n",
       "    }\n",
       "\n",
       "    .dataframe tbody tr th {\n",
       "        vertical-align: top;\n",
       "    }\n",
       "\n",
       "    .dataframe thead th {\n",
       "        text-align: right;\n",
       "    }\n",
       "</style>\n",
       "<table border=\"1\" class=\"dataframe\">\n",
       "  <thead>\n",
       "    <tr style=\"text-align: right;\">\n",
       "      <th></th>\n",
       "      <th>Date</th>\n",
       "      <th>Open</th>\n",
       "      <th>High</th>\n",
       "      <th>Low</th>\n",
       "      <th>Close</th>\n",
       "      <th>Adj Close</th>\n",
       "      <th>Volume</th>\n",
       "    </tr>\n",
       "  </thead>\n",
       "  <tbody>\n",
       "    <tr>\n",
       "      <th>0</th>\n",
       "      <td>2018-02-05</td>\n",
       "      <td>262.000000</td>\n",
       "      <td>267.899994</td>\n",
       "      <td>250.029999</td>\n",
       "      <td>254.259995</td>\n",
       "      <td>254.259995</td>\n",
       "      <td>11896100</td>\n",
       "    </tr>\n",
       "    <tr>\n",
       "      <th>1</th>\n",
       "      <td>2018-02-06</td>\n",
       "      <td>247.699997</td>\n",
       "      <td>266.700012</td>\n",
       "      <td>245.000000</td>\n",
       "      <td>265.720001</td>\n",
       "      <td>265.720001</td>\n",
       "      <td>12595800</td>\n",
       "    </tr>\n",
       "    <tr>\n",
       "      <th>2</th>\n",
       "      <td>2018-02-07</td>\n",
       "      <td>266.579987</td>\n",
       "      <td>272.450012</td>\n",
       "      <td>264.329987</td>\n",
       "      <td>264.559998</td>\n",
       "      <td>264.559998</td>\n",
       "      <td>8981500</td>\n",
       "    </tr>\n",
       "    <tr>\n",
       "      <th>3</th>\n",
       "      <td>2018-02-08</td>\n",
       "      <td>267.079987</td>\n",
       "      <td>267.619995</td>\n",
       "      <td>250.000000</td>\n",
       "      <td>250.100006</td>\n",
       "      <td>250.100006</td>\n",
       "      <td>9306700</td>\n",
       "    </tr>\n",
       "    <tr>\n",
       "      <th>4</th>\n",
       "      <td>2018-02-09</td>\n",
       "      <td>253.850006</td>\n",
       "      <td>255.800003</td>\n",
       "      <td>236.110001</td>\n",
       "      <td>249.470001</td>\n",
       "      <td>249.470001</td>\n",
       "      <td>16906900</td>\n",
       "    </tr>\n",
       "    <tr>\n",
       "      <th>...</th>\n",
       "      <td>...</td>\n",
       "      <td>...</td>\n",
       "      <td>...</td>\n",
       "      <td>...</td>\n",
       "      <td>...</td>\n",
       "      <td>...</td>\n",
       "      <td>...</td>\n",
       "    </tr>\n",
       "    <tr>\n",
       "      <th>1004</th>\n",
       "      <td>2022-01-31</td>\n",
       "      <td>401.970001</td>\n",
       "      <td>427.700012</td>\n",
       "      <td>398.200012</td>\n",
       "      <td>427.140015</td>\n",
       "      <td>427.140015</td>\n",
       "      <td>20047500</td>\n",
       "    </tr>\n",
       "    <tr>\n",
       "      <th>1005</th>\n",
       "      <td>2022-02-01</td>\n",
       "      <td>432.959991</td>\n",
       "      <td>458.480011</td>\n",
       "      <td>425.540009</td>\n",
       "      <td>457.130005</td>\n",
       "      <td>457.130005</td>\n",
       "      <td>22542300</td>\n",
       "    </tr>\n",
       "    <tr>\n",
       "      <th>1006</th>\n",
       "      <td>2022-02-02</td>\n",
       "      <td>448.250000</td>\n",
       "      <td>451.980011</td>\n",
       "      <td>426.480011</td>\n",
       "      <td>429.480011</td>\n",
       "      <td>429.480011</td>\n",
       "      <td>14346000</td>\n",
       "    </tr>\n",
       "    <tr>\n",
       "      <th>1007</th>\n",
       "      <td>2022-02-03</td>\n",
       "      <td>421.440002</td>\n",
       "      <td>429.260010</td>\n",
       "      <td>404.279999</td>\n",
       "      <td>405.600006</td>\n",
       "      <td>405.600006</td>\n",
       "      <td>9905200</td>\n",
       "    </tr>\n",
       "    <tr>\n",
       "      <th>1008</th>\n",
       "      <td>2022-02-04</td>\n",
       "      <td>407.309998</td>\n",
       "      <td>412.769989</td>\n",
       "      <td>396.640015</td>\n",
       "      <td>410.170013</td>\n",
       "      <td>410.170013</td>\n",
       "      <td>7782400</td>\n",
       "    </tr>\n",
       "  </tbody>\n",
       "</table>\n",
       "<p>1009 rows × 7 columns</p>\n",
       "</div>"
      ],
      "text/plain": [
       "           Date        Open        High         Low       Close   Adj Close  \\\n",
       "0    2018-02-05  262.000000  267.899994  250.029999  254.259995  254.259995   \n",
       "1    2018-02-06  247.699997  266.700012  245.000000  265.720001  265.720001   \n",
       "2    2018-02-07  266.579987  272.450012  264.329987  264.559998  264.559998   \n",
       "3    2018-02-08  267.079987  267.619995  250.000000  250.100006  250.100006   \n",
       "4    2018-02-09  253.850006  255.800003  236.110001  249.470001  249.470001   \n",
       "...         ...         ...         ...         ...         ...         ...   \n",
       "1004 2022-01-31  401.970001  427.700012  398.200012  427.140015  427.140015   \n",
       "1005 2022-02-01  432.959991  458.480011  425.540009  457.130005  457.130005   \n",
       "1006 2022-02-02  448.250000  451.980011  426.480011  429.480011  429.480011   \n",
       "1007 2022-02-03  421.440002  429.260010  404.279999  405.600006  405.600006   \n",
       "1008 2022-02-04  407.309998  412.769989  396.640015  410.170013  410.170013   \n",
       "\n",
       "        Volume  \n",
       "0     11896100  \n",
       "1     12595800  \n",
       "2      8981500  \n",
       "3      9306700  \n",
       "4     16906900  \n",
       "...        ...  \n",
       "1004  20047500  \n",
       "1005  22542300  \n",
       "1006  14346000  \n",
       "1007   9905200  \n",
       "1008   7782400  \n",
       "\n",
       "[1009 rows x 7 columns]"
      ]
     },
     "execution_count": 26,
     "metadata": {},
     "output_type": "execute_result"
    }
   ],
   "source": [
    "df"
   ]
  },
  {
   "cell_type": "code",
   "execution_count": 27,
   "id": "5c9e32b4-dea2-4049-9164-8d0631ba4404",
   "metadata": {},
   "outputs": [],
   "source": [
    "df.set_index('Date',inplace=True)"
   ]
  },
  {
   "cell_type": "markdown",
   "id": "7d867bda-4d42-4a59-8e61-b5fb5e7c1d35",
   "metadata": {},
   "source": [
    "## Selecting the features\n",
    "* we will use the ['Close'] column as the value to predict.\n",
    "* And we will use 'Date' as the index column\n",
    "\n",
    "\n",
    "    \n",
    "\n"
   ]
  },
  {
   "cell_type": "code",
   "execution_count": 28,
   "id": "99c29716-47cf-4e84-b252-0901ca15638e",
   "metadata": {},
   "outputs": [],
   "source": [
    "# we will create a new data frame which will only consist of Close column \n",
    "df1= pd.DataFrame(df, columns=['Close'])\n",
    "df1=df1.reset_index()\n"
   ]
  },
  {
   "cell_type": "code",
   "execution_count": 29,
   "id": "7feb6747-4bde-4b19-966f-cd1a5da8f2f2",
   "metadata": {},
   "outputs": [
    {
     "data": {
      "text/html": [
       "<div>\n",
       "<style scoped>\n",
       "    .dataframe tbody tr th:only-of-type {\n",
       "        vertical-align: middle;\n",
       "    }\n",
       "\n",
       "    .dataframe tbody tr th {\n",
       "        vertical-align: top;\n",
       "    }\n",
       "\n",
       "    .dataframe thead th {\n",
       "        text-align: right;\n",
       "    }\n",
       "</style>\n",
       "<table border=\"1\" class=\"dataframe\">\n",
       "  <thead>\n",
       "    <tr style=\"text-align: right;\">\n",
       "      <th></th>\n",
       "      <th>Date</th>\n",
       "      <th>Close</th>\n",
       "    </tr>\n",
       "  </thead>\n",
       "  <tbody>\n",
       "    <tr>\n",
       "      <th>0</th>\n",
       "      <td>2018-02-05</td>\n",
       "      <td>254.259995</td>\n",
       "    </tr>\n",
       "    <tr>\n",
       "      <th>1</th>\n",
       "      <td>2018-02-06</td>\n",
       "      <td>265.720001</td>\n",
       "    </tr>\n",
       "    <tr>\n",
       "      <th>2</th>\n",
       "      <td>2018-02-07</td>\n",
       "      <td>264.559998</td>\n",
       "    </tr>\n",
       "    <tr>\n",
       "      <th>3</th>\n",
       "      <td>2018-02-08</td>\n",
       "      <td>250.100006</td>\n",
       "    </tr>\n",
       "    <tr>\n",
       "      <th>4</th>\n",
       "      <td>2018-02-09</td>\n",
       "      <td>249.470001</td>\n",
       "    </tr>\n",
       "    <tr>\n",
       "      <th>...</th>\n",
       "      <td>...</td>\n",
       "      <td>...</td>\n",
       "    </tr>\n",
       "    <tr>\n",
       "      <th>1004</th>\n",
       "      <td>2022-01-31</td>\n",
       "      <td>427.140015</td>\n",
       "    </tr>\n",
       "    <tr>\n",
       "      <th>1005</th>\n",
       "      <td>2022-02-01</td>\n",
       "      <td>457.130005</td>\n",
       "    </tr>\n",
       "    <tr>\n",
       "      <th>1006</th>\n",
       "      <td>2022-02-02</td>\n",
       "      <td>429.480011</td>\n",
       "    </tr>\n",
       "    <tr>\n",
       "      <th>1007</th>\n",
       "      <td>2022-02-03</td>\n",
       "      <td>405.600006</td>\n",
       "    </tr>\n",
       "    <tr>\n",
       "      <th>1008</th>\n",
       "      <td>2022-02-04</td>\n",
       "      <td>410.170013</td>\n",
       "    </tr>\n",
       "  </tbody>\n",
       "</table>\n",
       "<p>1009 rows × 2 columns</p>\n",
       "</div>"
      ],
      "text/plain": [
       "           Date       Close\n",
       "0    2018-02-05  254.259995\n",
       "1    2018-02-06  265.720001\n",
       "2    2018-02-07  264.559998\n",
       "3    2018-02-08  250.100006\n",
       "4    2018-02-09  249.470001\n",
       "...         ...         ...\n",
       "1004 2022-01-31  427.140015\n",
       "1005 2022-02-01  457.130005\n",
       "1006 2022-02-02  429.480011\n",
       "1007 2022-02-03  405.600006\n",
       "1008 2022-02-04  410.170013\n",
       "\n",
       "[1009 rows x 2 columns]"
      ]
     },
     "execution_count": 29,
     "metadata": {},
     "output_type": "execute_result"
    }
   ],
   "source": [
    "df1"
   ]
  },
  {
   "cell_type": "code",
   "execution_count": 13,
   "id": "da3d3968-f609-483e-963d-23e1796c6781",
   "metadata": {},
   "outputs": [
    {
     "name": "stdout",
     "output_type": "stream",
     "text": [
      "<class 'pandas.core.frame.DataFrame'>\n",
      "RangeIndex: 1009 entries, 0 to 1008\n",
      "Data columns (total 2 columns):\n",
      " #   Column  Non-Null Count  Dtype  \n",
      "---  ------  --------------  -----  \n",
      " 0   index   1009 non-null   int64  \n",
      " 1   Close   1009 non-null   float64\n",
      "dtypes: float64(1), int64(1)\n",
      "memory usage: 15.9 KB\n"
     ]
    }
   ],
   "source": [
    "df1.info()"
   ]
  },
  {
   "cell_type": "markdown",
   "id": "b628c7a1-605e-4b42-b9cd-89811165bf22",
   "metadata": {},
   "source": [
    "\n",
    "* Now as the preprocessing is done we will try to examine the data using matplotlib, so that we can find the relationship between the columns."
   ]
  },
  {
   "cell_type": "code",
   "execution_count": 30,
   "id": "ca977259-8c95-4553-8794-334cdff103f4",
   "metadata": {},
   "outputs": [
    {
     "data": {
      "text/html": [
       "<div>\n",
       "<style scoped>\n",
       "    .dataframe tbody tr th:only-of-type {\n",
       "        vertical-align: middle;\n",
       "    }\n",
       "\n",
       "    .dataframe tbody tr th {\n",
       "        vertical-align: top;\n",
       "    }\n",
       "\n",
       "    .dataframe thead th {\n",
       "        text-align: right;\n",
       "    }\n",
       "</style>\n",
       "<table border=\"1\" class=\"dataframe\">\n",
       "  <thead>\n",
       "    <tr style=\"text-align: right;\">\n",
       "      <th></th>\n",
       "      <th>Date</th>\n",
       "      <th>Close</th>\n",
       "    </tr>\n",
       "  </thead>\n",
       "  <tbody>\n",
       "    <tr>\n",
       "      <th>0</th>\n",
       "      <td>2018-02-05</td>\n",
       "      <td>254.259995</td>\n",
       "    </tr>\n",
       "    <tr>\n",
       "      <th>1</th>\n",
       "      <td>2018-02-06</td>\n",
       "      <td>265.720001</td>\n",
       "    </tr>\n",
       "    <tr>\n",
       "      <th>2</th>\n",
       "      <td>2018-02-07</td>\n",
       "      <td>264.559998</td>\n",
       "    </tr>\n",
       "    <tr>\n",
       "      <th>3</th>\n",
       "      <td>2018-02-08</td>\n",
       "      <td>250.100006</td>\n",
       "    </tr>\n",
       "    <tr>\n",
       "      <th>4</th>\n",
       "      <td>2018-02-09</td>\n",
       "      <td>249.470001</td>\n",
       "    </tr>\n",
       "    <tr>\n",
       "      <th>...</th>\n",
       "      <td>...</td>\n",
       "      <td>...</td>\n",
       "    </tr>\n",
       "    <tr>\n",
       "      <th>1004</th>\n",
       "      <td>2022-01-31</td>\n",
       "      <td>427.140015</td>\n",
       "    </tr>\n",
       "    <tr>\n",
       "      <th>1005</th>\n",
       "      <td>2022-02-01</td>\n",
       "      <td>457.130005</td>\n",
       "    </tr>\n",
       "    <tr>\n",
       "      <th>1006</th>\n",
       "      <td>2022-02-02</td>\n",
       "      <td>429.480011</td>\n",
       "    </tr>\n",
       "    <tr>\n",
       "      <th>1007</th>\n",
       "      <td>2022-02-03</td>\n",
       "      <td>405.600006</td>\n",
       "    </tr>\n",
       "    <tr>\n",
       "      <th>1008</th>\n",
       "      <td>2022-02-04</td>\n",
       "      <td>410.170013</td>\n",
       "    </tr>\n",
       "  </tbody>\n",
       "</table>\n",
       "<p>1009 rows × 2 columns</p>\n",
       "</div>"
      ],
      "text/plain": [
       "           Date       Close\n",
       "0    2018-02-05  254.259995\n",
       "1    2018-02-06  265.720001\n",
       "2    2018-02-07  264.559998\n",
       "3    2018-02-08  250.100006\n",
       "4    2018-02-09  249.470001\n",
       "...         ...         ...\n",
       "1004 2022-01-31  427.140015\n",
       "1005 2022-02-01  457.130005\n",
       "1006 2022-02-02  429.480011\n",
       "1007 2022-02-03  405.600006\n",
       "1008 2022-02-04  410.170013\n",
       "\n",
       "[1009 rows x 2 columns]"
      ]
     },
     "execution_count": 30,
     "metadata": {},
     "output_type": "execute_result"
    }
   ],
   "source": [
    "df1"
   ]
  },
  {
   "cell_type": "code",
   "execution_count": 31,
   "id": "1a21caf7-f188-4566-87ae-5c68196baf23",
   "metadata": {},
   "outputs": [],
   "source": [
    "import matplotlib.dates as md\n",
    "import matplotlib.pyplot as plt\n"
   ]
  },
  {
   "cell_type": "code",
   "execution_count": 33,
   "id": "28d87f5b-9913-4178-8979-6e508dab3067",
   "metadata": {},
   "outputs": [],
   "source": [
    "yr= md.YearLocator()\n",
    "yrfmt=md.DateFormatter('%Y')\n"
   ]
  },
  {
   "cell_type": "code",
   "execution_count": 34,
   "id": "6248d925-3407-4013-ae6b-d3a88408cdc2",
   "metadata": {},
   "outputs": [
    {
     "data": {
      "image/png": "[encoded data removed]",
      "text/plain": [
       "<Figure size 640x480 with 1 Axes>"
      ]
     },
     "metadata": {},
     "output_type": "display_data"
    }
   ],
   "source": [
    "import matplotlib.pyplot as plt\n",
    "\n",
    "# Create a figure and a single subplot\n",
    "fig, ax = plt.subplots()\n",
    "\n",
    "# Now you can plot your data on the subplot\n",
    "ax.plot(df1['Date'], df1['Close'])\n",
    "\n",
    "# Customize the plot as needed\n",
    "ax.xaxis.set_major_locator(yr)\n",
    "ax.xaxis.set_major_formatter(yrfmt)\n",
    "ax.set_xlabel('Year')\n",
    "ax.set_ylabel('Close Price')\n",
    "ax.set_title('Close Price Over Time')\n",
    "plt.show()\n",
    "\n",
    "\n",
    "\n",
    "\n",
    "\n",
    "\n"
   ]
  },
  {
   "cell_type": "code",
   "execution_count": 35,
   "id": "678fd0c7-323f-4325-a7cd-a97abd5278c6",
   "metadata": {},
   "outputs": [],
   "source": [
    "from sklearn.model_selection import train_test_split\n",
    "from sklearn.linear_model import LinearRegression\n",
    "\n",
    "\n",
    "\n",
    "# Split data into train and test set: 80% / 20%\n",
    "train, test = train_test_split(df1, test_size=0.20)"
   ]
  },
  {
   "cell_type": "markdown",
   "id": "1a91ee1c-0b1b-4cc8-abad-56de6fa8f788",
   "metadata": {},
   "source": [
    "## Now we will create a model and train it"
   ]
  },
  {
   "cell_type": "code",
   "execution_count": 36,
   "id": "430e3bfa-6ae6-4454-9274-cc71438708b9",
   "metadata": {},
   "outputs": [],
   "source": [
    "X_train=np.array(train.index).reshape(-1,1)\n",
    "y_train=train['Close']"
   ]
  },
  {
   "cell_type": "code",
   "execution_count": 37,
   "id": "87d5c886-15c4-47d1-86a4-b71d9f3b4bd4",
   "metadata": {},
   "outputs": [
    {
     "data": {
      "text/plain": [
       "789    502.859985\n",
       "410    265.920013\n",
       "134    322.440002\n",
       "712    503.380005\n",
       "478    323.309998\n",
       "          ...    \n",
       "897    558.919983\n",
       "403    288.859985\n",
       "42     288.850006\n",
       "825    488.940002\n",
       "966    612.690002\n",
       "Name: Close, Length: 807, dtype: float64"
      ]
     },
     "execution_count": 37,
     "metadata": {},
     "output_type": "execute_result"
    }
   ],
   "source": [
    "y_train\n",
    "\n"
   ]
  },
  {
   "cell_type": "code",
   "execution_count": 38,
   "id": "e4a2fd4f-6be9-48d3-b5ab-f490e26c8822",
   "metadata": {},
   "outputs": [
    {
     "data": {
      "text/plain": [
       "2"
      ]
     },
     "execution_count": 38,
     "metadata": {},
     "output_type": "execute_result"
    }
   ],
   "source": [
    "X_train.ndim"
   ]
  },
  {
   "cell_type": "code",
   "execution_count": 39,
   "id": "ac63a080-2339-4b93-ac33-d856f29bcf57",
   "metadata": {},
   "outputs": [
    {
     "data": {
      "text/html": [
       "<style>#sk-container-id-1 {color: black;background-color: white;}#sk-container-id-1 pre{padding: 0;}#sk-container-id-1 div.sk-toggleable {background-color: white;}#sk-container-id-1 label.sk-toggleable__label {cursor: pointer;display: block;width: 100%;margin-bottom: 0;padding: 0.3em;box-sizing: border-box;text-align: center;}#sk-container-id-1 label.sk-toggleable__label-arrow:before {content: \"▸\";float: left;margin-right: 0.25em;color: #696969;}#sk-container-id-1 label.sk-toggleable__label-arrow:hover:before {color: black;}#sk-container-id-1 div.sk-estimator:hover label.sk-toggleable__label-arrow:before {color: black;}#sk-container-id-1 div.sk-toggleable__content {max-height: 0;max-width: 0;overflow: hidden;text-align: left;background-color: #f0f8ff;}#sk-container-id-1 div.sk-toggleable__content pre {margin: 0.2em;color: black;border-radius: 0.25em;background-color: #f0f8ff;}#sk-container-id-1 input.sk-toggleable__control:checked~div.sk-toggleable__content {max-height: 200px;max-width: 100%;overflow: auto;}#sk-container-id-1 input.sk-toggleable__control:checked~label.sk-toggleable__label-arrow:before {content: \"▾\";}#sk-container-id-1 div.sk-estimator input.sk-toggleable__control:checked~label.sk-toggleable__label {background-color: #d4ebff;}#sk-container-id-1 div.sk-label input.sk-toggleable__control:checked~label.sk-toggleable__label {background-color: #d4ebff;}#sk-container-id-1 input.sk-hidden--visually {border: 0;clip: rect(1px 1px 1px 1px);clip: rect(1px, 1px, 1px, 1px);height: 1px;margin: -1px;overflow: hidden;padding: 0;position: absolute;width: 1px;}#sk-container-id-1 div.sk-estimator {font-family: monospace;background-color: #f0f8ff;border: 1px dotted black;border-radius: 0.25em;box-sizing: border-box;margin-bottom: 0.5em;}#sk-container-id-1 div.sk-estimator:hover {background-color: #d4ebff;}#sk-container-id-1 div.sk-parallel-item::after {content: \"\";width: 100%;border-bottom: 1px solid gray;flex-grow: 1;}#sk-container-id-1 div.sk-label:hover label.sk-toggleable__label {background-color: #d4ebff;}#sk-container-id-1 div.sk-serial::before {content: \"\";position: absolute;border-left: 1px solid gray;box-sizing: border-box;top: 0;bottom: 0;left: 50%;z-index: 0;}#sk-container-id-1 div.sk-serial {display: flex;flex-direction: column;align-items: center;background-color: white;padding-right: 0.2em;padding-left: 0.2em;position: relative;}#sk-container-id-1 div.sk-item {position: relative;z-index: 1;}#sk-container-id-1 div.sk-parallel {display: flex;align-items: stretch;justify-content: center;background-color: white;position: relative;}#sk-container-id-1 div.sk-item::before, #sk-container-id-1 div.sk-parallel-item::before {content: \"\";position: absolute;border-left: 1px solid gray;box-sizing: border-box;top: 0;bottom: 0;left: 50%;z-index: -1;}#sk-container-id-1 div.sk-parallel-item {display: flex;flex-direction: column;z-index: 1;position: relative;background-color: white;}#sk-container-id-1 div.sk-parallel-item:first-child::after {align-self: flex-end;width: 50%;}#sk-container-id-1 div.sk-parallel-item:last-child::after {align-self: flex-start;width: 50%;}#sk-container-id-1 div.sk-parallel-item:only-child::after {width: 0;}#sk-container-id-1 div.sk-dashed-wrapped {border: 1px dashed gray;margin: 0 0.4em 0.5em 0.4em;box-sizing: border-box;padding-bottom: 0.4em;background-color: white;}#sk-container-id-1 div.sk-label label {font-family: monospace;font-weight: bold;display: inline-block;line-height: 1.2em;}#sk-container-id-1 div.sk-label-container {text-align: center;}#sk-container-id-1 div.sk-container {/* jupyter's `normalize.less` sets `[hidden] { display: none; }` but bootstrap.min.css set `[hidden] { display: none !important; }` so we also need the `!important` here to be able to override the default hidden behavior on the sphinx rendered scikit-learn.org. See: https://github.com/scikit-learn/scikit-learn/issues/21755 */display: inline-block !important;position: relative;}#sk-container-id-1 div.sk-text-repr-fallback {display: none;}</style><div id=\"sk-container-id-1\" class=\"sk-top-container\"><div class=\"sk-text-repr-fallback\"><pre>LinearRegression()</pre><b>In a Jupyter environment, please rerun this cell to show the HTML representation or trust the notebook. <br />On GitHub, the HTML representation is unable to render, please try loading this page with nbviewer.org.</b></div><div class=\"sk-container\" hidden><div class=\"sk-item\"><div class=\"sk-estimator sk-toggleable\"><input class=\"sk-toggleable__control sk-hidden--visually\" id=\"sk-estimator-id-1\" type=\"checkbox\" checked><label for=\"sk-estimator-id-1\" class=\"sk-toggleable__label sk-toggleable__label-arrow\">LinearRegression</label><div class=\"sk-toggleable__content\"><pre>LinearRegression()</pre></div></div></div></div></div>"
      ],
      "text/plain": [
       "LinearRegression()"
      ]
     },
     "execution_count": 39,
     "metadata": {},
     "output_type": "execute_result"
    }
   ],
   "source": [
    "# Create LinearRegression Object\n",
    "mod = LinearRegression()\n",
    "# Fit linear model using the train data set\n",
    "mod.fit(X_train, y_train)\n"
   ]
  },
  {
   "cell_type": "code",
   "execution_count": 40,
   "id": "5154b2c2-ffce-42d7-9368-1fdbdb8b8d81",
   "metadata": {},
   "outputs": [
    {
     "data": {
      "text/plain": [
       "263.08388372598824"
      ]
     },
     "execution_count": 40,
     "metadata": {},
     "output_type": "execute_result"
    }
   ],
   "source": [
    "mod.intercept_"
   ]
  },
  {
   "cell_type": "code",
   "execution_count": 41,
   "id": "144b60a8-70c8-4119-a1d0-12890c8dfe49",
   "metadata": {},
   "outputs": [
    {
     "data": {
      "image/png": "[encoded data removed]",
      "text/plain": [
       "<Figure size 1600x1000 with 1 Axes>"
      ]
     },
     "metadata": {},
     "output_type": "display_data"
    }
   ],
   "source": [
    "plt.figure(1, figsize=(16,10))\n",
    "plt.title('Linear Regression | Price vs Time')\n",
    "plt.scatter(X_train, y_train, edgecolor='w', label='Actual Price')\n",
    "plt.plot(X_train, mod.predict(X_train), color='r', label='Predicted Price')\n",
    "plt.xlabel('Integer Date')\n",
    "plt.ylabel('Stock Price')\n",
    "plt.legend()\n",
    "plt.show()"
   ]
  },
  {
   "cell_type": "code",
   "execution_count": 45,
   "id": "a5ea3459-fcab-4258-8abf-fb70aaad78f2",
   "metadata": {},
   "outputs": [],
   "source": [
    "# Create test arrays\n",
    "X_test = np.array(test.index).reshape(-1, 1)\n",
    "y_test = test['Close']\n",
    "y_pred = mod.predict(X_test)"
   ]
  },
  {
   "cell_type": "code",
   "execution_count": 46,
   "id": "192fcd08-acc5-47d3-a36e-1cd7f54cb7a2",
   "metadata": {},
   "outputs": [
    {
     "data": {
      "text/plain": [
       "array([469.15613336, 521.84328946, 339.15291385, 389.03424507,\n",
       "       269.94256677, 337.90588057, 456.99755887, 326.37082272,\n",
       "       300.80664047, 371.57577914, 340.08818881, 268.38377517,\n",
       "       511.24350658, 444.52722606, 451.07415079, 403.68688612,\n",
       "       353.18203825, 381.24028707, 341.95873873, 496.27910721,\n",
       "       451.69766743, 333.8530224 , 394.33413652, 499.39669041,\n",
       "       462.60920863, 376.87567059, 450.76239247, 317.95334808,\n",
       "       449.82711751, 485.367566  , 445.1507427 , 566.11297093,\n",
       "       477.88536632, 374.0698457 , 332.60598912, 483.8087744 ,\n",
       "       572.34813733, 531.19603907, 436.73326806, 415.84546061,\n",
       "       314.52400655, 441.09788454, 452.94470071, 502.82603193,\n",
       "       552.39560484, 573.59517061, 571.10110405, 480.37943288,\n",
       "       331.35895584, 466.66206679, 266.82498357, 501.26724033,\n",
       "       545.22516348, 566.42472925, 397.1399614 , 269.31905013,\n",
       "       303.30070703, 486.30284096, 284.59520782, 473.83250816,\n",
       "       330.11192256, 405.55743604, 351.93500497, 410.23381084,\n",
       "       341.33522209, 493.16152401, 336.34708896, 465.10327519,\n",
       "       453.56821735, 539.92527203, 285.53048278, 408.0515026 ,\n",
       "       432.36865158, 455.12700895, 499.70844873, 375.62863731,\n",
       "       516.54339802, 512.80229818, 546.78395508, 373.13457074,\n",
       "       569.54231245, 422.08062701, 410.85732748, 412.41611909,\n",
       "       550.2132966 , 518.41394794, 444.83898438, 372.5110541 ,\n",
       "       327.30609768, 389.34600339, 517.47867298, 476.95009136,\n",
       "       545.84868012, 574.21868725, 474.76778312, 533.06658899,\n",
       "       410.54556916, 300.49488215, 273.37190829, 313.90048991,\n",
       "       379.05797883, 358.4819297 , 431.1216183 , 266.20146693,\n",
       "       572.03637901, 380.92852875, 386.54017851, 352.55852161,\n",
       "       365.02885442, 322.9414812 , 520.59625618, 315.45928151,\n",
       "       401.50457788, 524.33735602, 286.77751606, 535.87241387,\n",
       "       283.97169118, 487.54987425, 425.50996853, 468.22085839,\n",
       "       530.26076411, 285.21872446, 374.38160403, 540.86054699,\n",
       "       405.24567772, 399.94578628, 479.75591624, 432.99216822,\n",
       "       399.01051132, 535.24889723, 395.89292812, 510.61998994,\n",
       "       348.81742177, 443.5919511 , 406.80446932, 461.67393367,\n",
       "       364.09357946, 368.76995426, 538.36648043, 415.22194397,\n",
       "       342.58225537, 540.54878867, 568.91879581, 331.67071416,\n",
       "       436.10975142, 388.09897011, 286.46575774, 296.13026566,\n",
       "       282.10114126, 407.73974428, 434.86271814, 438.60381798,\n",
       "       337.28236393, 409.29853588, 428.00403509, 323.87675616,\n",
       "       498.77317377, 333.54126408, 364.7170961 , 489.73218249,\n",
       "       550.52505492, 561.1248378 , 367.8346793 , 555.82494636,\n",
       "       298.93609055, 473.20899152, 491.29097409, 575.77747885,\n",
       "       573.90692893, 486.9263576 , 332.2942308 , 504.07306521,\n",
       "       457.62107551, 446.7095343 , 352.87027993, 366.2758877 ,\n",
       "       459.49162543, 500.95548201, 437.66854302, 366.89940434,\n",
       "       549.58977996, 307.97708183, 515.91988138, 482.87349944,\n",
       "       522.4668061 , 339.77643049, 321.3826896 , 382.79907867,\n",
       "       287.08927438, 308.60059847, 475.39129976, 421.76886869,\n",
       "       320.44741464, 409.6102942 , 474.4560248 , 574.53044557,\n",
       "       471.96195824, 497.21438217, 331.04719752, 357.23489642,\n",
       "       292.38916582, 554.8896714 ])"
      ]
     },
     "execution_count": 46,
     "metadata": {},
     "output_type": "execute_result"
    }
   ],
   "source": [
    "y_pred"
   ]
  },
  {
   "cell_type": "code",
   "execution_count": 47,
   "id": "7e0bfecd-d303-4622-b88a-05d4cc73413e",
   "metadata": {},
   "outputs": [],
   "source": [
    "df1['Prediction'] = mod.predict(np.array(df1.index).reshape(-1, 1))"
   ]
  },
  {
   "cell_type": "code",
   "execution_count": 48,
   "id": "3f428703-221d-42b8-9042-f97afbe8ae6e",
   "metadata": {},
   "outputs": [
    {
     "data": {
      "text/html": [
       "<div>\n",
       "<style scoped>\n",
       "    .dataframe tbody tr th:only-of-type {\n",
       "        vertical-align: middle;\n",
       "    }\n",
       "\n",
       "    .dataframe tbody tr th {\n",
       "        vertical-align: top;\n",
       "    }\n",
       "\n",
       "    .dataframe thead th {\n",
       "        text-align: right;\n",
       "    }\n",
       "</style>\n",
       "<table border=\"1\" class=\"dataframe\">\n",
       "  <thead>\n",
       "    <tr style=\"text-align: right;\">\n",
       "      <th></th>\n",
       "      <th>Date</th>\n",
       "      <th>Close</th>\n",
       "      <th>Prediction</th>\n",
       "    </tr>\n",
       "  </thead>\n",
       "  <tbody>\n",
       "    <tr>\n",
       "      <th>0</th>\n",
       "      <td>2018-02-05</td>\n",
       "      <td>254.259995</td>\n",
       "      <td>263.083884</td>\n",
       "    </tr>\n",
       "    <tr>\n",
       "      <th>1</th>\n",
       "      <td>2018-02-06</td>\n",
       "      <td>265.720001</td>\n",
       "      <td>263.395642</td>\n",
       "    </tr>\n",
       "    <tr>\n",
       "      <th>2</th>\n",
       "      <td>2018-02-07</td>\n",
       "      <td>264.559998</td>\n",
       "      <td>263.707400</td>\n",
       "    </tr>\n",
       "    <tr>\n",
       "      <th>3</th>\n",
       "      <td>2018-02-08</td>\n",
       "      <td>250.100006</td>\n",
       "      <td>264.019159</td>\n",
       "    </tr>\n",
       "    <tr>\n",
       "      <th>4</th>\n",
       "      <td>2018-02-09</td>\n",
       "      <td>249.470001</td>\n",
       "      <td>264.330917</td>\n",
       "    </tr>\n",
       "    <tr>\n",
       "      <th>...</th>\n",
       "      <td>...</td>\n",
       "      <td>...</td>\n",
       "      <td>...</td>\n",
       "    </tr>\n",
       "    <tr>\n",
       "      <th>1004</th>\n",
       "      <td>2022-01-31</td>\n",
       "      <td>427.140015</td>\n",
       "      <td>576.089237</td>\n",
       "    </tr>\n",
       "    <tr>\n",
       "      <th>1005</th>\n",
       "      <td>2022-02-01</td>\n",
       "      <td>457.130005</td>\n",
       "      <td>576.400995</td>\n",
       "    </tr>\n",
       "    <tr>\n",
       "      <th>1006</th>\n",
       "      <td>2022-02-02</td>\n",
       "      <td>429.480011</td>\n",
       "      <td>576.712754</td>\n",
       "    </tr>\n",
       "    <tr>\n",
       "      <th>1007</th>\n",
       "      <td>2022-02-03</td>\n",
       "      <td>405.600006</td>\n",
       "      <td>577.024512</td>\n",
       "    </tr>\n",
       "    <tr>\n",
       "      <th>1008</th>\n",
       "      <td>2022-02-04</td>\n",
       "      <td>410.170013</td>\n",
       "      <td>577.336270</td>\n",
       "    </tr>\n",
       "  </tbody>\n",
       "</table>\n",
       "<p>1009 rows × 3 columns</p>\n",
       "</div>"
      ],
      "text/plain": [
       "           Date       Close  Prediction\n",
       "0    2018-02-05  254.259995  263.083884\n",
       "1    2018-02-06  265.720001  263.395642\n",
       "2    2018-02-07  264.559998  263.707400\n",
       "3    2018-02-08  250.100006  264.019159\n",
       "4    2018-02-09  249.470001  264.330917\n",
       "...         ...         ...         ...\n",
       "1004 2022-01-31  427.140015  576.089237\n",
       "1005 2022-02-01  457.130005  576.400995\n",
       "1006 2022-02-02  429.480011  576.712754\n",
       "1007 2022-02-03  405.600006  577.024512\n",
       "1008 2022-02-04  410.170013  577.336270\n",
       "\n",
       "[1009 rows x 3 columns]"
      ]
     },
     "execution_count": 48,
     "metadata": {},
     "output_type": "execute_result"
    }
   ],
   "source": [
    "df1"
   ]
  },
  {
   "cell_type": "code",
   "execution_count": 49,
   "id": "f1c17c6d-a18f-401d-8cee-6eb1df5258d2",
   "metadata": {},
   "outputs": [
    {
     "data": {
      "image/png": "[encoded data removed]",
      "text/plain": [
       "<Figure size 1600x1000 with 1 Axes>"
      ]
     },
     "metadata": {},
     "output_type": "display_data"
    }
   ],
   "source": [
    "# Plot fitted line, y test\n",
    "plt.figure(1, figsize=(16,10))\n",
    "plt.title('Linear Regression | Price vs Time')\n",
    "plt.plot(X_test, mod.predict(X_test), color='r', label='Predicted Price')\n",
    "plt.scatter(X_test, y_test, edgecolor='w', label='Actual Price')\n",
    "\n",
    "plt.xlabel('Integer Date')\n",
    "plt.ylabel('Stock Price in $')\n",
    "\n",
    "plt.show()\n"
   ]
  },
  {
   "cell_type": "code",
   "execution_count": 50,
   "id": "80c71ff3-9c18-4153-a3f6-3ba942eb11c7",
   "metadata": {},
   "outputs": [],
   "source": [
    "# Import metrics package from sklearn for statistical analysis\n",
    "from sklearn import metrics"
   ]
  },
  {
   "cell_type": "code",
   "execution_count": 51,
   "id": "b8074c9b-3ca3-4d5a-bad0-fa1cf73a7b0d",
   "metadata": {},
   "outputs": [
    {
     "data": {
      "text/plain": [
       "count    1009.000000\n",
       "mean      419.000733\n",
       "std       108.289999\n",
       "min       233.880005\n",
       "25%       331.619995\n",
       "50%       378.670013\n",
       "75%       509.079987\n",
       "max       691.690002\n",
       "Name: Close, dtype: float64"
      ]
     },
     "execution_count": 51,
     "metadata": {},
     "output_type": "execute_result"
    }
   ],
   "source": [
    "# Statistical summary of test data\n",
    "df1['Close'].describe()"
   ]
  },
  {
   "cell_type": "code",
   "execution_count": 52,
   "id": "2b05b8ad-890e-4950-99de-f7025b3398a5",
   "metadata": {},
   "outputs": [
    {
     "name": "stdout",
     "output_type": "stream",
     "text": [
      "Mean Absolute Error: 45.66280535302375\n",
      "Mean Squared Error: 3468.790884020883\n",
      "Root Mean Squared Error: 58.896442031933326\n"
     ]
    }
   ],
   "source": [
    "print('Mean Absolute Error:', metrics.mean_absolute_error(y_test, y_pred))  \n",
    "print('Mean Squared Error:', metrics.mean_squared_error(y_test, y_pred))  \n",
    "print('Root Mean Squared Error:', np.sqrt(metrics.mean_squared_error(y_test, y_pred)))"
   ]
  },
  {
   "cell_type": "code",
   "execution_count": 53,
   "id": "c0d0be7e-7da6-48be-8d1e-bc11534fbdf3",
   "metadata": {},
   "outputs": [
    {
     "name": "stdout",
     "output_type": "stream",
     "text": [
      "R2:  0.6926698426671881\n"
     ]
    }
   ],
   "source": [
    "print('R2: ', metrics.r2_score(y_test, y_pred))"
   ]
  },
  {
   "cell_type": "code",
   "execution_count": 54,
   "id": "728874ec-8e9a-490e-b074-896fa09697f5",
   "metadata": {},
   "outputs": [
    {
     "data": {
      "text/plain": [
       "0.6959028484570956"
      ]
     },
     "execution_count": 54,
     "metadata": {},
     "output_type": "execute_result"
    }
   ],
   "source": [
    "from sklearn.metrics import explained_variance_score\n",
    "explained_variance_score(y_test, y_pred)"
   ]
  },
  {
   "cell_type": "code",
   "execution_count": null,
   "id": "421e92d7-b000-41d6-a002-1872e36d49f3",
   "metadata": {},
   "outputs": [],
   "source": []
  }
 ],
 "metadata": {
  "kernelspec": {
   "display_name": "Python 3 (ipykernel)",
   "language": "python",
   "name": "python3"
  },
  "language_info": {
   "codemirror_mode": {
    "name": "ipython",
    "version": 3
   },
   "file_extension": ".py",
   "mimetype": "text/x-python",
   "name": "python",
   "nbconvert_exporter": "python",
   "pygments_lexer": "ipython3",
   "version": "3.11.7"
  }
 },
 "nbformat": 4,
 "nbformat_minor": 5
}
